{
  "nbformat": 4,
  "nbformat_minor": 0,
  "metadata": {
    "colab": {
      "provenance": []
    },
    "kernelspec": {
      "name": "python3",
      "display_name": "Python 3"
    },
    "language_info": {
      "name": "python"
    }
  },
  "cells": [
    {
      "cell_type": "code",
      "execution_count": 2,
      "metadata": {
        "colab": {
          "base_uri": "https://localhost:8080/"
        },
        "id": "0gdLCU7poKmZ",
        "outputId": "04c42483-d80a-4e82-8de1-b477e3cfba34"
      },
      "outputs": [
        {
          "output_type": "stream",
          "name": "stdout",
          "text": [
            "5\n"
          ]
        }
      ],
      "source": [
        "#this is a single line comment\n",
        "'''\n",
        "this is multiple lines comments \n",
        "used to show hello on screen\n",
        "'''\n",
        "a=5\n",
        "print(a)"
      ]
    }
  ]
}